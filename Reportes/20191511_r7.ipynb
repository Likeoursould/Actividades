{
 "cells": [
  {
   "cell_type": "code",
   "execution_count": 2,
   "id": "efc5f510",
   "metadata": {},
   "outputs": [
    {
     "ename": "ModuleNotFoundError",
     "evalue": "No module named 'SyncRNG'",
     "output_type": "error",
     "traceback": [
      "\u001b[1;31m---------------------------------------------------------------------------\u001b[0m",
      "\u001b[1;31mModuleNotFoundError\u001b[0m                       Traceback (most recent call last)",
      "Input \u001b[1;32mIn [2]\u001b[0m, in \u001b[0;36m<cell line: 8>\u001b[1;34m()\u001b[0m\n\u001b[0;32m      6\u001b[0m \u001b[38;5;28;01mimport\u001b[39;00m \u001b[38;5;21;01mstatsmodels\u001b[39;00m\u001b[38;5;21;01m.\u001b[39;00m\u001b[38;5;21;01mformula\u001b[39;00m\u001b[38;5;21;01m.\u001b[39;00m\u001b[38;5;21;01mapi\u001b[39;00m \u001b[38;5;28;01mas\u001b[39;00m \u001b[38;5;21;01msmf\u001b[39;00m  \n\u001b[0;32m      7\u001b[0m \u001b[38;5;28;01mimport\u001b[39;00m \u001b[38;5;21;01mpatsy\u001b[39;00m \n\u001b[1;32m----> 8\u001b[0m \u001b[38;5;28;01mfrom\u001b[39;00m \u001b[38;5;21;01mSyncRNG\u001b[39;00m \u001b[38;5;28;01mimport\u001b[39;00m SyncRNG \n\u001b[0;32m      9\u001b[0m \u001b[38;5;28;01mimport\u001b[39;00m \u001b[38;5;21;01mpatsy\u001b[39;00m \n\u001b[0;32m     10\u001b[0m get_ipython()\u001b[38;5;241m.\u001b[39mrun_line_magic(\u001b[38;5;124m'\u001b[39m\u001b[38;5;124mmatplotlib\u001b[39m\u001b[38;5;124m'\u001b[39m, \u001b[38;5;124m'\u001b[39m\u001b[38;5;124minline\u001b[39m\u001b[38;5;124m'\u001b[39m)\n",
      "\u001b[1;31mModuleNotFoundError\u001b[0m: No module named 'SyncRNG'"
     ]
    }
   ],
   "source": [
    "import pandas as pd \n",
    "import numpy as np \n",
    "from scipy import stats \n",
    "from scipy.stats import norm \n",
    "import statsmodels.api as sm  \n",
    "import statsmodels.formula.api as smf  \n",
    "import patsy \n",
    "from SyncRNG import SyncRNG \n",
    "import patsy \n",
    "%matplotlib inline\n",
    "import matplotlib \n",
    "import matplotlib.mlab as mlab \n",
    "import matplotlib.pyplot as plt \n",
    "import pyreadr \n",
    "import seaborn as sns \n",
    "import random \n",
    "import string\n",
    "import warnings \n",
    "warnings.filterwarnings('ignore') "
   ]
  },
  {
   "cell_type": "markdown",
   "id": "e6903544",
   "metadata": {},
   "source": [
    "                                                            REPORTE 7"
   ]
  },
  {
   "cell_type": "markdown",
   "id": "b8ac216a",
   "metadata": {},
   "source": [
    "Nombres y Apellidos: Claudia Zevallos\n",
    "\n",
    "Código : 20191511"
   ]
  },
  {
   "cell_type": "markdown",
   "id": "2ab5b86e",
   "metadata": {},
   "source": [
    "Control de lectura\n",
    "----"
   ]
  },
  {
   "cell_type": "markdown",
   "id": "068e6f96",
   "metadata": {},
   "source": [
    "D"
   ]
  },
  {
   "cell_type": "markdown",
   "id": "bac16bc3",
   "metadata": {},
   "source": [
    "Código\n",
    "----"
   ]
  },
  {
   "cell_type": "markdown",
   "id": "875547d8",
   "metadata": {},
   "source": [
    "Claudia Andrea Zevallos Amaya 20191511\n",
    "\n",
    "Ariana Sato Flores 20192304"
   ]
  },
  {
   "cell_type": "markdown",
   "id": "11f0051f",
   "metadata": {},
   "source": [
    "Ploteo de Histogramas"
   ]
  },
  {
   "cell_type": "markdown",
   "id": "eaa31af6",
   "metadata": {},
   "source": [
    "Deben plotear la distribución de las notas para los tres grupos de manera separada. Revisen este link para ayudarse. Les recomiendo que utilicen la libreria seaborn porque es muy práctica para plotear gráficos por grupos. Hint de cómo crear una variable dummy.\n",
    "\n",
    "-face-to-face\n",
    "\n",
    "-online lessons\n",
    "\n",
    "-blended format\n"
   ]
  },
  {
   "cell_type": "markdown",
   "id": "cacb8684",
   "metadata": {},
   "source": [
    "1. Sus gráficos deben tener correctamente las legendas y los label"
   ]
  },
  {
   "cell_type": "code",
   "execution_count": null,
   "id": "e5558392",
   "metadata": {},
   "outputs": [],
   "source": []
  },
  {
   "cell_type": "markdown",
   "id": "be00abbe",
   "metadata": {},
   "source": [
    "2. Expliquen qué diferencias encuentran entre los tres histogramas"
   ]
  },
  {
   "cell_type": "code",
   "execution_count": null,
   "id": "1a648238",
   "metadata": {},
   "outputs": [],
   "source": []
  },
  {
   "cell_type": "markdown",
   "id": "6e95938a",
   "metadata": {},
   "source": [
    "Difference-in-means estimator."
   ]
  },
  {
   "cell_type": "markdown",
   "id": "79093712",
   "metadata": {},
   "source": [
    "Ahora solo se van a concentrar en los grupos face-to-face y online lessons. Para ello pueden seguir estos pasos:\n",
    "\n",
    "1. Crear un nuevo dataset donde solo incluyan estos dos grupos\n",
    "2. Calculan el promedio del grupo online lessons\n",
    "3. Calculan el primdeio del grupo face-to-face\n",
    "4. Toman la diferencia entre el valor encontrado en 2 y el valor en 3."
   ]
  },
  {
   "cell_type": "code",
   "execution_count": 4,
   "id": "cf0ca2be",
   "metadata": {},
   "outputs": [],
   "source": [
    "\n",
    "data = pd.read_csv( \"https://docs.google.com/uc?id=1kSxrVci_EUcSr_Lg1JKk1l7Xd5I9zfRC&export=download\" )\n",
    "n = data.shape[0]\n",
    "\n",
    "treatment = \"w\"\n",
    "\n",
    "outcome = \"y\"\n",
    "\n",
    "covariates = [\"age\", \"polviews\", \"income\", \"educ\", \"marital\", \"sex\"]"
   ]
  },
  {
   "cell_type": "code",
   "execution_count": 5,
   "id": "416547ff",
   "metadata": {},
   "outputs": [
    {
     "data": {
      "text/html": [
       "<div>\n",
       "<style scoped>\n",
       "    .dataframe tbody tr th:only-of-type {\n",
       "        vertical-align: middle;\n",
       "    }\n",
       "\n",
       "    .dataframe tbody tr th {\n",
       "        vertical-align: top;\n",
       "    }\n",
       "\n",
       "    .dataframe thead th {\n",
       "        text-align: right;\n",
       "    }\n",
       "</style>\n",
       "<table border=\"1\" class=\"dataframe\">\n",
       "  <thead>\n",
       "    <tr style=\"text-align: right;\">\n",
       "      <th></th>\n",
       "      <th>estimate</th>\n",
       "      <th>std_error</th>\n",
       "      <th>t_stat</th>\n",
       "      <th>pvalue</th>\n",
       "    </tr>\n",
       "  </thead>\n",
       "  <tbody>\n",
       "    <tr>\n",
       "      <th>0</th>\n",
       "      <td>-0.347116</td>\n",
       "      <td>0.004896</td>\n",
       "      <td>-70.903029</td>\n",
       "      <td>0.0</td>\n",
       "    </tr>\n",
       "  </tbody>\n",
       "</table>\n",
       "</div>"
      ],
      "text/plain": [
       "   estimate  std_error     t_stat  pvalue\n",
       "0 -0.347116   0.004896 -70.903029     0.0"
      ]
     },
     "execution_count": 5,
     "metadata": {},
     "output_type": "execute_result"
    }
   ],
   "source": [
    "# Only valid in the randomized setting. Do not use in observational settings.\n",
    "Y = data.loc[ : , outcome ].copy()\n",
    "W = data.loc[ : , treatment ].copy()\n",
    "ate_est = Y[ W == 1 ].mean() - Y[ W == 0 ].mean()\n",
    "ate_se = np.sqrt(( Y[ W == 1 ].var() / (W == 1).sum() ) + ( Y[ W == 0 ].var() / (W == 0).sum() ))\n",
    "ate_tstat = ate_est / ate_se\n",
    "ate_pvalue = 2* norm.cdf( 1 - abs( ate_est / ate_se ) )\n",
    "ate_results = pd.DataFrame( { \"estimate\" : [ate_est], \n",
    "               \"std_error\" : [ate_se], \n",
    "               \"t_stat\" : [ate_tstat], \n",
    "               \"pvalue\" : [ate_pvalue] } )\n",
    "ate_results"
   ]
  },
  {
   "cell_type": "code",
   "execution_count": 6,
   "id": "75c8dae9",
   "metadata": {},
   "outputs": [
    {
     "data": {
      "text/plain": [
       "Ttest_indResult(statistic=-70.90302895777103, pvalue=0.0)"
      ]
     },
     "execution_count": 6,
     "metadata": {},
     "output_type": "execute_result"
    }
   ],
   "source": [
    "stats.ttest_ind(a=Y[ W == 1 ] , b = Y[ W == 0 ] , equal_var=False)"
   ]
  },
  {
   "cell_type": "code",
   "execution_count": 7,
   "id": "ba77700c",
   "metadata": {},
   "outputs": [
    {
     "data": {
      "text/plain": [
       "Coef.       -0.347116\n",
       "Std.Err.     0.004732\n",
       "t          -73.349622\n",
       "P>|t|        0.000000\n",
       "Name: w, dtype: float64"
      ]
     },
     "execution_count": 7,
     "metadata": {},
     "output_type": "execute_result"
    }
   ],
   "source": [
    "fmla = outcome + \"~\" + treatment\n",
    "ols = smf.ols( fmla, data )\n",
    "ols.fit().summary2().tables[1].iloc[1, :4]"
   ]
  },
  {
   "cell_type": "code",
   "execution_count": 8,
   "id": "93930a1b",
   "metadata": {},
   "outputs": [
    {
     "data": {
      "text/plain": [
       "Coef.       -0.347116\n",
       "Std.Err.     0.004896\n",
       "t          -70.903029\n",
       "P>|t|        0.000000\n",
       "Name: w, dtype: float64"
      ]
     },
     "execution_count": 8,
     "metadata": {},
     "output_type": "execute_result"
    }
   ],
   "source": [
    "fmla = outcome + \"~\" + treatment\n",
    "ols = smf.ols( fmla, data )\n",
    "ols.fit().get_robustcov_results(cov_type = \"HC2\").summary2().tables[1].iloc[1, :4]"
   ]
  },
  {
   "cell_type": "code",
   "execution_count": null,
   "id": "2ae50f9b",
   "metadata": {},
   "outputs": [],
   "source": []
  },
  {
   "cell_type": "markdown",
   "id": "31e3fa8e",
   "metadata": {},
   "source": [
    "¿Cuál es su interpretación del resultado encontrado?"
   ]
  },
  {
   "cell_type": "code",
   "execution_count": null,
   "id": "9f7f7347",
   "metadata": {},
   "outputs": [],
   "source": []
  },
  {
   "cell_type": "markdown",
   "id": "34f8323b",
   "metadata": {},
   "source": [
    "Difference-in-means estimator via linear regression"
   ]
  },
  {
   "cell_type": "markdown",
   "id": "38ce22f9",
   "metadata": {},
   "source": [
    "Ahora van a utilizar una regresión lineal para encontrar lo mismo que en el apartado de arriba. Pueden seguir estos pasos\n",
    "\n",
    "-Deben crear una variable dummy que tome el valor de 1 cuando el tipo de clase sea online y 0 cuando sea face to face.\n",
    "-Luego deben realizar una regresion lineal donde Y = Las notas, T = Dummy creada para el tipo de clase.\n",
    "-Esta regresion es de la siguente manera Y = beta_0 + beta_1*T + e. El valor que encuentren para beta_1 es el average treatment effect que debería ser igual al Difference-in-means estimator encontrado arriba."
   ]
  },
  {
   "cell_type": "code",
   "execution_count": null,
   "id": "bdc89b57",
   "metadata": {},
   "outputs": [],
   "source": []
  },
  {
   "cell_type": "markdown",
   "id": "6bdf7d59",
   "metadata": {},
   "source": [
    "¿Cuál es su interpretación del resultado encontrado?"
   ]
  },
  {
   "cell_type": "code",
   "execution_count": null,
   "id": "9deb8d6f",
   "metadata": {},
   "outputs": [],
   "source": []
  }
 ],
 "metadata": {
  "kernelspec": {
   "display_name": "Python 3 (ipykernel)",
   "language": "python",
   "name": "python3"
  },
  "language_info": {
   "codemirror_mode": {
    "name": "ipython",
    "version": 3
   },
   "file_extension": ".py",
   "mimetype": "text/x-python",
   "name": "python",
   "nbconvert_exporter": "python",
   "pygments_lexer": "ipython3",
   "version": "3.9.12"
  }
 },
 "nbformat": 4,
 "nbformat_minor": 5
}
